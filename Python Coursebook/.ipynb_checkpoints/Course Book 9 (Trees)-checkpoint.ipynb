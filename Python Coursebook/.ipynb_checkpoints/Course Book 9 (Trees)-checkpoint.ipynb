{
 "cells": [
  {
   "cell_type": "markdown",
   "metadata": {},
   "source": [
    "# Trees"
   ]
  },
  {
   "cell_type": "code",
   "execution_count": 5,
   "metadata": {},
   "outputs": [
    {
     "name": "stdout",
     "output_type": "stream",
     "text": [
      "root node\n",
      "left child node\n",
      "left grandchild node\n"
     ]
    }
   ],
   "source": [
    "class Node:\n",
    "    def __init__(self, data):\n",
    "        self.data = data\n",
    "        self.right_child = None\n",
    "        self.left_child = None\n",
    "        \n",
    "\n",
    "n1 = Node(\"root node\")\n",
    "n2 = Node(\"left child node\")\n",
    "n3 = Node(\"right child node\")\n",
    "n4 = Node(\"left grandchild node\")\n",
    "\n",
    "n1.left_child = n2\n",
    "n2.right_child = n3\n",
    "n2.left_child = n4\n",
    "\n",
    "current = n1\n",
    "while current:\n",
    "    print(current.data)\n",
    "    current = current.left_child"
   ]
  },
  {
   "cell_type": "markdown",
   "metadata": {},
   "source": [
    "# Tree Traversal\n",
    "**Depth-First Search**\n",
    "1. In-order traversal and infix notation"
   ]
  },
  {
   "cell_type": "code",
   "execution_count": 19,
   "metadata": {},
   "outputs": [
    {
     "name": "stdout",
     "output_type": "stream",
     "text": [
      "left grandchild node\n",
      "left child node\n",
      "root node\n",
      "right child node\n"
     ]
    }
   ],
   "source": [
    "# Left->Root->Right\n",
    "\n",
    "    \n",
    "class Node:\n",
    "    def __init__(self, data):\n",
    "        self.data = data\n",
    "        self.right_child = None\n",
    "        self.left_child = None\n",
    "    \n",
    "    def inorder(self, root_node):\n",
    "        current = root_node\n",
    "        if current is None:\n",
    "            return\n",
    "        self.inorder(current.left_child)\n",
    "        print(current.data)\n",
    "        self.inorder(current.right_child)  \n",
    "\n",
    "n1 = Node(\"root node\")\n",
    "n2 = Node(\"left child node\")\n",
    "n3 = Node(\"right child node\")\n",
    "n4 = Node(\"left grandchild node\")\n",
    "\n",
    "n1.left_child = n2\n",
    "n1.right_child = n3\n",
    "n2.left_child = n4\n",
    "\n",
    "n1.inorder(n1)"
   ]
  },
  {
   "cell_type": "markdown",
   "metadata": {},
   "source": [
    "2. Pre-order traversal and prefix notation"
   ]
  },
  {
   "cell_type": "code",
   "execution_count": 21,
   "metadata": {},
   "outputs": [
    {
     "name": "stdout",
     "output_type": "stream",
     "text": [
      "root node\n",
      "left child node\n",
      "left grandchild node\n",
      "right child node\n"
     ]
    }
   ],
   "source": [
    "# Root->left->Right\n",
    "    \n",
    "class Node:\n",
    "    def __init__(self, data):\n",
    "        self.data = data\n",
    "        self.right_child = None\n",
    "        self.left_child = None\n",
    "    \n",
    "    def preorder(self, root_node):\n",
    "        current = root_node\n",
    "        if current is None:\n",
    "            return\n",
    "        print(current.data)\n",
    "        self.preorder(current.left_child)\n",
    "        self.preorder(current.right_child)  \n",
    "\n",
    "n1 = Node(\"root node\")\n",
    "n2 = Node(\"left child node\")\n",
    "n3 = Node(\"right child node\")\n",
    "n4 = Node(\"left grandchild node\")\n",
    "\n",
    "n1.left_child = n2\n",
    "n1.right_child = n3\n",
    "n2.left_child = n4\n",
    "\n",
    "n1.preorder(n1)"
   ]
  },
  {
   "cell_type": "markdown",
   "metadata": {},
   "source": [
    "3. Post-order traversal and postfix notation"
   ]
  },
  {
   "cell_type": "code",
   "execution_count": 23,
   "metadata": {},
   "outputs": [
    {
     "name": "stdout",
     "output_type": "stream",
     "text": [
      "left grandchild node\n",
      "left child node\n",
      "right child node\n",
      "root node\n"
     ]
    }
   ],
   "source": [
    "# left->Right->Root\n",
    "    \n",
    "class Node:\n",
    "    def __init__(self, data):\n",
    "        self.data = data\n",
    "        self.right_child = None\n",
    "        self.left_child = None\n",
    "    \n",
    "    def postorder(self, root_node):\n",
    "        current = root_node\n",
    "        if current is None:\n",
    "            return\n",
    "        \n",
    "        self.postorder(current.left_child)\n",
    "        self.postorder(current.right_child)  \n",
    "        print(current.data)\n",
    "\n",
    "n1 = Node(\"root node\")\n",
    "n2 = Node(\"left child node\")\n",
    "n3 = Node(\"right child node\")\n",
    "n4 = Node(\"left grandchild node\")\n",
    "\n",
    "n1.left_child = n2\n",
    "n1.right_child = n3\n",
    "n2.left_child = n4\n",
    "\n",
    "n1.postorder(n1)"
   ]
  },
  {
   "cell_type": "code",
   "execution_count": null,
   "metadata": {},
   "outputs": [],
   "source": []
  }
 ],
 "metadata": {
  "kernelspec": {
   "display_name": "Python 3",
   "language": "python",
   "name": "python3"
  },
  "language_info": {
   "codemirror_mode": {
    "name": "ipython",
    "version": 3
   },
   "file_extension": ".py",
   "mimetype": "text/x-python",
   "name": "python",
   "nbconvert_exporter": "python",
   "pygments_lexer": "ipython3",
   "version": "3.8.5"
  }
 },
 "nbformat": 4,
 "nbformat_minor": 4
}
