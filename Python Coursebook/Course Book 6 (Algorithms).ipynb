{
 "cells": [
  {
   "cell_type": "markdown",
   "metadata": {},
   "source": [
    "# Karatsuba Algorithm\n",
    "\n",
    "For multiplication of two large numbers."
   ]
  },
  {
   "cell_type": "code",
   "execution_count": 1,
   "metadata": {},
   "outputs": [
    {
     "data": {
      "text/plain": [
       "28958703552"
      ]
     },
     "execution_count": 1,
     "metadata": {},
     "output_type": "execute_result"
    }
   ],
   "source": [
    "def karatsuba(x,y):\n",
    "    if x < 10 or y<10:\n",
    "        return x*y\n",
    "    else:\n",
    "        n = max(len(str(x)), len(str(y)))\n",
    "        half = n // 2\n",
    "        a = x // (10 ** half)     # left part of x\n",
    "        b = x % (10 ** half)      # right part of x\n",
    "        c = y // (10 ** half)     # left part of y\n",
    "        d = y % (10 ** half)      # right part of y\n",
    "        ac = karatsuba(a, c)\n",
    "        bd = karatsuba(b, d)\n",
    "        ad_plus_bc = karatsuba(a+b, c+d) - ac - bd\n",
    "        \n",
    "        return ac * (10 ** (2*half)) + (ad_plus_bc * (10 ** half)) + bd\n",
    "\n",
    "karatsuba(123456, 234567)"
   ]
  },
  {
   "cell_type": "code",
   "execution_count": null,
   "metadata": {},
   "outputs": [],
   "source": []
  }
 ],
 "metadata": {
  "kernelspec": {
   "display_name": "Python 3",
   "language": "python",
   "name": "python3"
  },
  "language_info": {
   "codemirror_mode": {
    "name": "ipython",
    "version": 3
   },
   "file_extension": ".py",
   "mimetype": "text/x-python",
   "name": "python",
   "nbconvert_exporter": "python",
   "pygments_lexer": "ipython3",
   "version": "3.8.5"
  }
 },
 "nbformat": 4,
 "nbformat_minor": 4
}
