{
 "cells": [
  {
   "cell_type": "markdown",
   "metadata": {},
   "source": [
    "# Functions"
   ]
  },
  {
   "cell_type": "code",
   "execution_count": 2,
   "metadata": {},
   "outputs": [
    {
     "data": {
      "text/plain": [
       "5"
      ]
     },
     "execution_count": 2,
     "metadata": {},
     "output_type": "execute_result"
    }
   ],
   "source": [
    "def add(x,y):\n",
    "    return x+y\n",
    "\n",
    "add1 = lambda x,y:x+y\n",
    "\n",
    "add1(2,3)"
   ]
  },
  {
   "cell_type": "code",
   "execution_count": 1,
   "metadata": {},
   "outputs": [
    {
     "name": "stdout",
     "output_type": "stream",
     "text": [
      "Good Morning sir.\n"
     ]
    }
   ],
   "source": [
    "def greet():\n",
    "    print(\"Good Morning sir.\")\n",
    "    \n",
    "greet()"
   ]
  },
  {
   "cell_type": "code",
   "execution_count": 5,
   "metadata": {},
   "outputs": [
    {
     "name": "stdout",
     "output_type": "stream",
     "text": [
      "0.5\n"
     ]
    }
   ],
   "source": [
    "def exp(a,b):\n",
    "    c = a**b\n",
    "    return c\n",
    "\n",
    "d = exp(2,-1)\n",
    "print(d)"
   ]
  },
  {
   "cell_type": "markdown",
   "metadata": {},
   "source": [
    "# Classes"
   ]
  },
  {
   "cell_type": "code",
   "execution_count": 8,
   "metadata": {},
   "outputs": [
    {
     "name": "stdout",
     "output_type": "stream",
     "text": [
      "Sarvesh 50000\n",
      "Naresh 60000\n"
     ]
    }
   ],
   "source": [
    "class Employee:\n",
    "    def __init__(self, gname, gsalary):\n",
    "        self.name = gname\n",
    "        self.salary = gsalary\n",
    "\n",
    "Emp1 = Employee(\"Sarvesh\",50000)\n",
    "Emp2 = Employee(\"Naresh\",60000)\n",
    "print(Emp1.name,Emp1.salary)\n",
    "print(Emp2.name,Emp2.salary)"
   ]
  },
  {
   "cell_type": "code",
   "execution_count": 3,
   "metadata": {},
   "outputs": [
    {
     "name": "stdout",
     "output_type": "stream",
     "text": [
      "harry\n",
      "larry\n"
     ]
    }
   ],
   "source": [
    "# Classes - Template\n",
    "# Object - Instance of the class\n",
    "\n",
    "class student:\n",
    "    pass\n",
    "\n",
    "harry = student()\n",
    "larry = student()\n",
    "\n",
    "harry.name = \"harry\"\n",
    "larry.name = \"larry\"\n",
    "\n",
    "print(harry.name)\n",
    "print(larry.name)\n",
    "    "
   ]
  },
  {
   "cell_type": "code",
   "execution_count": 6,
   "metadata": {},
   "outputs": [
    {
     "name": "stdout",
     "output_type": "stream",
     "text": [
      "{'name': 'Rohan', 'salary': 4554, 'role': 'Student', 'no_of_leaves': 9}\n",
      "{'__module__': '__main__', 'no_of_leaves': 8, '__dict__': <attribute '__dict__' of 'Employee' objects>, '__weakref__': <attribute '__weakref__' of 'Employee' objects>, '__doc__': None}\n"
     ]
    }
   ],
   "source": [
    "class Employee:\n",
    "    no_of_leaves = 8\n",
    "    pass\n",
    "\n",
    "harry = Employee()\n",
    "rohan = Employee()\n",
    "\n",
    "harry.name = \"Harry\"\n",
    "harry.salary = 455\n",
    "harry.role = \"Instructor\"\n",
    "\n",
    "rohan.name = \"Rohan\"\n",
    "rohan.salary = 4554\n",
    "rohan.role = \"Student\"\n",
    "\n",
    "rohan.no_of_leaves = 9   # created a new instant for that object.\n",
    " \n",
    "print(rohan.__dict__)    \n",
    "print(Employee.__dict__)"
   ]
  },
  {
   "cell_type": "code",
   "execution_count": 10,
   "metadata": {},
   "outputs": [
    {
     "name": "stdout",
     "output_type": "stream",
     "text": [
      "Name is Rohan. Salary is 4554 and role is Student\n",
      "Name is Harry. Salary is 455 and role is Instructor\n"
     ]
    }
   ],
   "source": [
    "class Employee:\n",
    "    no_of_leaves = 8\n",
    "    \n",
    "    def printdetails(self):\n",
    "        return f\"Name is {self.name}. Salary is {self.salary} and role is {self.role}\"\n",
    "\n",
    "harry = Employee()\n",
    "rohan = Employee()\n",
    "\n",
    "harry.name = \"Harry\"\n",
    "harry.salary = 455\n",
    "harry.role = \"Instructor\"\n",
    "\n",
    "rohan.name = \"Rohan\"\n",
    "rohan.salary = 4554\n",
    "rohan.role = \"Student\"\n",
    "\n",
    "print(rohan.printdetails())\n",
    "print(harry.printdetails())"
   ]
  },
  {
   "cell_type": "code",
   "execution_count": 21,
   "metadata": {},
   "outputs": [
    {
     "name": "stdout",
     "output_type": "stream",
     "text": [
      "480\n"
     ]
    }
   ],
   "source": [
    "class Employee:\n",
    "    no_of_leaves = 8\n",
    "    def __init__(self,aname,asalary,arole):     # Constructor\n",
    "        self.name = aname\n",
    "        self.salary = asalary\n",
    "        self.role = arole\n",
    "    \n",
    "    def printdetails(self):\n",
    "        return f\"Name is {self.name}. Salary is {self.salary} and role is {self.role}\"\n",
    "    \n",
    "    @classmethod\n",
    "    def change_leaves(cls, newleaves):\n",
    "        cls.no_of_leaves = newleaves\n",
    "    \n",
    "    @classmethod\n",
    "    def from_str(cls,string):\n",
    "#         p = string.split(\"-\")\n",
    "#         print(p)\n",
    "#         return cls(p[0], p[1], p[2])\n",
    "        return cls(*string.split(\"-\"))\n",
    "    \n",
    "harry = Employee(\"Harry\", 4255, \"Instructor\")\n",
    "karan = Employee.from_str(\"karan-480-Student\")\n",
    "\n",
    "print(karan.salary)"
   ]
  },
  {
   "cell_type": "code",
   "execution_count": 23,
   "metadata": {},
   "outputs": [
    {
     "name": "stdout",
     "output_type": "stream",
     "text": [
      "This is good harry\n",
      "This is good rohan\n"
     ]
    }
   ],
   "source": [
    "class Employee:\n",
    "    no_of_leaves = 8\n",
    "    def __init__(self,aname,asalary,arole):     # Constructor\n",
    "        self.name = aname\n",
    "        self.salary = asalary\n",
    "        self.role = arole\n",
    "    \n",
    "    def printdetails(self):\n",
    "        return f\"Name is {self.name}. Salary is {self.salary} and role is {self.role}\"\n",
    "    \n",
    "    @classmethod\n",
    "    def change_leaves(cls, newleaves):\n",
    "        cls.no_of_leaves = newleaves\n",
    "    \n",
    "    @classmethod\n",
    "    def from_str(cls,string):\n",
    "        return cls(*string.split(\"-\"))\n",
    "    \n",
    "    @staticmethod\n",
    "    def printgood(string):\n",
    "        print(\"This is good \" + string)\n",
    "    \n",
    "    \n",
    "harry = Employee(\"Harry\", 4255, \"Instructor\")\n",
    "karan = Employee.from_str(\"karan-480-Student\")\n",
    "\n",
    "karan.printgood(\"harry\")\n",
    "Employee.printgood(\"rohan\")"
   ]
  },
  {
   "cell_type": "code",
   "execution_count": 24,
   "metadata": {},
   "outputs": [],
   "source": [
    "# Abstraction (dividing into various classes layer by layer)\n",
    "# Encapsulation (hiding the internal implementation of an object)\n",
    "\n"
   ]
  },
  {
   "cell_type": "code",
   "execution_count": 30,
   "metadata": {},
   "outputs": [
    {
     "name": "stdout",
     "output_type": "stream",
     "text": [
      "Programmer's Name is Amit. Salary is 777 and role is Programmer. The languages are ['Python', 'cpp']\n",
      "Name is Amit. Salary is 777 and role is Programmer\n"
     ]
    }
   ],
   "source": [
    "# Single Inheritance\n",
    "\n",
    "class Employee:\n",
    "    no_of_leaves = 8\n",
    "    def __init__(self,aname,asalary,arole):     # Constructor\n",
    "        self.name = aname\n",
    "        self.salary = asalary\n",
    "        self.role = arole\n",
    "    \n",
    "    def printdetails(self):\n",
    "        return f\"Name is {self.name}. Salary is {self.salary} and role is {self.role}\"\n",
    "    \n",
    "    @classmethod\n",
    "    def change_leaves(cls, newleaves):\n",
    "        cls.no_of_leaves = newleaves\n",
    "    \n",
    "    @classmethod\n",
    "    def from_str(cls,string):\n",
    "        return cls(*string.split(\"-\"))\n",
    "    \n",
    "    @staticmethod\n",
    "    def printgood(string):\n",
    "        print(\"This is good \" + string)\n",
    "\n",
    "        \n",
    "class Programmer(Employee):\n",
    "    def __init__(self, aname, asalary, arole, languages):\n",
    "        self.name = aname       # not a good way.\n",
    "        self.salary = asalary\n",
    "        self.role = arole\n",
    "        self.languages = languages\n",
    "        \n",
    "    \n",
    "    def printprog(self):\n",
    "        return f\"Programmer's Name is {self.name}. Salary is {self.salary} and role is {self.role}. The languages are {self.languages}\"\n",
    "        \n",
    "    \n",
    "    \n",
    "harry = Employee(\"Harry\", 4255, \"Instructor\")\n",
    "karan = Employee.from_str(\"karan-480-Student\")\n",
    "\n",
    "shubham = Programmer(\"Shubham\", 555, \"Programmer\", [\"Python\"])\n",
    "amit = Programmer(\"Amit\", 777, \"Programmer\", [\"Python\",\"cpp\"])\n",
    "\n",
    "print(amit.printprog())\n",
    "print(amit.printdetails())"
   ]
  },
  {
   "cell_type": "code",
   "execution_count": 38,
   "metadata": {},
   "outputs": [
    {
     "name": "stdout",
     "output_type": "stream",
     "text": [
      "Name is Karan. Salary is 999 and role is CoolProgrammer\n",
      "c++\n"
     ]
    }
   ],
   "source": [
    "# Multiple Inheritance\n",
    "class Employee:\n",
    "    no_of_leaves = 8\n",
    "    def __init__(self,aname,asalary,arole):     # Constructor\n",
    "        self.name = aname\n",
    "        self.salary = asalary\n",
    "        self.role = arole\n",
    "    \n",
    "    def printdetails(self):\n",
    "        return f\"Name is {self.name}. Salary is {self.salary} and role is {self.role}\"\n",
    "    \n",
    "    @classmethod\n",
    "    def change_leaves(cls, newleaves):\n",
    "        cls.no_of_leaves = newleaves\n",
    "    \n",
    "    @classmethod\n",
    "    def from_str(cls,string):\n",
    "        return cls(*string.split(\"-\"))\n",
    "    \n",
    "    @staticmethod\n",
    "    def printgood(string):\n",
    "        print(\"This is good \" + string)\n",
    "\n",
    "class Player:\n",
    "    no_of_games = 4\n",
    "    def __init__(self,name,game):\n",
    "        self.name = name\n",
    "        self.game = game\n",
    "    \n",
    "    def printdetails(self):\n",
    "        return f\"Name is {self.name}. Game is {self.game}.\"\n",
    "        \n",
    "class CoolProgrammer(Employee, Player):  # class which is inherited first attributes will be refrenced of that class only.\n",
    "    language = \"c++\"\n",
    "    def printlanguage(self):\n",
    "        print(self.language)\n",
    "        \n",
    "harry = Employee(\"Harry\", 4255, \"Instructor\")\n",
    "rohan = Employee.from_str(\"Rohan-480-Student\")\n",
    "\n",
    "shubham = Player(\"Shubham\", [\"Cricket\"])\n",
    "karan = CoolProgrammer(\"Karan\", 999, \"CoolProgrammer\")\n",
    "\n",
    "print(karan.printdetails())\n",
    "karan.printlanguage()"
   ]
  },
  {
   "cell_type": "code",
   "execution_count": 42,
   "metadata": {},
   "outputs": [
    {
     "name": "stdout",
     "output_type": "stream",
     "text": [
      "Yes I dance very awesomely 6 no. of times\n",
      "1\n"
     ]
    }
   ],
   "source": [
    "class Dad:\n",
    "    basketball = 1\n",
    "\n",
    "class Son(Dad):\n",
    "    dance = 1\n",
    "    def isdance(self):\n",
    "        return f\"Yes I dance {self.dance} no. of times\"\n",
    "\n",
    "class Grandson(Son):\n",
    "    dance = 6\n",
    "    def isdance(self):\n",
    "        return f\"Yes I dance very awesomely {self.dance} no. of times\"\n",
    "\n",
    "darry = Dad()\n",
    "larry = Son()\n",
    "harry = Grandson()\n",
    "\n",
    "print(harry.isdance())\n",
    "print(harry.basketball)     # searching goes like this: Grandson->Son->Dad"
   ]
  },
  {
   "cell_type": "code",
   "execution_count": 47,
   "metadata": {},
   "outputs": [
    {
     "name": "stdout",
     "output_type": "stream",
     "text": [
      "5\n",
      "71\n"
     ]
    }
   ],
   "source": [
    "# Public, Private and Protected\n",
    "class Employee:\n",
    "    no_of_leaves = 8\n",
    "    _proc = 5\n",
    "    __private = 71\n",
    "    def __init__(self,aname,asalary,arole):     # Constructor\n",
    "        self.name = aname\n",
    "        self.salary = asalary\n",
    "        self.role = arole\n",
    "    \n",
    "    def printdetails(self):\n",
    "        return f\"Name is {self.name}. Salary is {self.salary} and role is {self.role}\"\n",
    "    \n",
    "    @classmethod\n",
    "    def change_leaves(cls, newleaves):\n",
    "        cls.no_of_leaves = newleaves\n",
    "    \n",
    "    @classmethod\n",
    "    def from_str(cls,string):\n",
    "        return cls(*string.split(\"-\"))\n",
    "    \n",
    "    @staticmethod\n",
    "    def printgood(string):\n",
    "        print(\"This is good \" + string)\n",
    "        \n",
    "\n",
    "emp = Employee(\"Harry\", 322, \"Programmer\")\n",
    "print(emp._proc)\n",
    "# print(emp.__private) : will show error\n",
    "print(emp._Employee__private) # To print private attributes"
   ]
  },
  {
   "cell_type": "code",
   "execution_count": 49,
   "metadata": {},
   "outputs": [
    {
     "name": "stdout",
     "output_type": "stream",
     "text": [
      "Instance var in class A\n"
     ]
    }
   ],
   "source": [
    "# Super and Overriding\n",
    "class A:\n",
    "    classvar1 = \"I am a class variable in class A\"\n",
    "    def __init__(self):\n",
    "        self.var1 = \"I am inside class A's constructor\"\n",
    "        self.classvar1 = \"Instance var in class A\"\n",
    "\n",
    "        \n",
    "class B(A):\n",
    "    classvar2 = \"I am in class B\"\n",
    "    def __init__(self):\n",
    "        self.var1 = \"I am inside class B's constructor\"\n",
    "        self.classvar1 = \"Instance var in class B\"\n",
    "        \n",
    "\n",
    "a = A()\n",
    "b = B()\n",
    "\n",
    "print(b.classvar1)   # First it will search the instance variables of both classes.\n",
    "                     # Then it will search in its own class then in parent class.\n"
   ]
  },
  {
   "cell_type": "code",
   "execution_count": null,
   "metadata": {},
   "outputs": [],
   "source": []
  }
 ],
 "metadata": {
  "kernelspec": {
   "display_name": "Python 3 (ipykernel)",
   "language": "python",
   "name": "python3"
  },
  "language_info": {
   "codemirror_mode": {
    "name": "ipython",
    "version": 3
   },
   "file_extension": ".py",
   "mimetype": "text/x-python",
   "name": "python",
   "nbconvert_exporter": "python",
   "pygments_lexer": "ipython3",
   "version": "3.8.5"
  }
 },
 "nbformat": 4,
 "nbformat_minor": 4
}
